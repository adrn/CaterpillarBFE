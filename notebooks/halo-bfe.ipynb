{
 "cells": [
  {
   "cell_type": "code",
   "execution_count": null,
   "metadata": {
    "collapsed": true
   },
   "outputs": [],
   "source": [
    "import os\n",
    "from os.path import join\n",
    "import sys\n",
    "\n",
    "# Third-party\n",
    "import astropy.units as u\n",
    "import matplotlib.pyplot as pl\n",
    "from matplotlib import ticker\n",
    "import numpy as np\n",
    "pl.style.use('apw-notebook')\n",
    "%matplotlib inline\n",
    "from scipy.stats import gaussian_kde\n",
    "\n",
    "import gala.coordinates as gc\n",
    "import gala.dynamics as gd\n",
    "import gala.integrate as gi\n",
    "import gala.potential as gp\n",
    "from gala.units import galactic, dimensionless\n",
    "\n",
    "# Custom\n",
    "import biff"
   ]
  },
  {
   "cell_type": "code",
   "execution_count": null,
   "metadata": {
    "collapsed": false
   },
   "outputs": [],
   "source": [
    "_path = os.path.abspath(\"../hdf5lib/\")\n",
    "if _path not in sys.path:\n",
    "    sys.path.append(_path)\n",
    "data_path = os.path.abspath(\"../data/\")\n",
    "import readsnapHDF5 as rsg"
   ]
  },
  {
   "cell_type": "markdown",
   "metadata": {},
   "source": [
    "---"
   ]
  },
  {
   "cell_type": "code",
   "execution_count": null,
   "metadata": {
    "collapsed": true
   },
   "outputs": [],
   "source": [
    "import h5py"
   ]
  },
  {
   "cell_type": "code",
   "execution_count": null,
   "metadata": {
    "collapsed": false
   },
   "outputs": [],
   "source": [
    "with h5py.File(\"../data/snapdir_255/snap_255.0.hdf5\", \"r\") as f:\n",
    "    mass_table = f['Header'].attrs['MassTable']\n",
    "    hubble = f['Header'].attrs['HubbleParam']\n",
    "    print(f['Header'].attrs['NumPart_Total'])\n",
    "    \n",
    "    xyz = f['PartType1']['Coordinates'][:] / hubble * 1000.\n",
    "    print(xyz.shape)\n",
    "    \n",
    "    m_k = mass_table[1] / hubble * np.ones(len(xyz)) # particle mass"
   ]
  },
  {
   "cell_type": "code",
   "execution_count": null,
   "metadata": {
    "collapsed": true
   },
   "outputs": [],
   "source": [
    "med_xyz = np.median(xyz, axis=0)\n",
    "\n",
    "# select only particles near center to do KDE\n",
    "cen_r = 25. # arbitrary threshold\n",
    "cen_xyz = xyz[np.sum((xyz - med_xyz[None])**2, axis=-1) < cen_r**2]"
   ]
  },
  {
   "cell_type": "code",
   "execution_count": null,
   "metadata": {
    "collapsed": false
   },
   "outputs": [],
   "source": [
    "kde = gaussian_kde(cen_xyz[::10].T)\n",
    "density = kde(cen_xyz[::10].T)\n",
    "center_pos = cen_xyz[::10][density.argmax()]\n",
    "centered_xyz = xyz - center_pos[None]"
   ]
  },
  {
   "cell_type": "code",
   "execution_count": null,
   "metadata": {
    "collapsed": false
   },
   "outputs": [],
   "source": [
    "# remove any particles at (0,0,0)\n",
    "del_ix, = np.where(np.all(centered_xyz == 0., axis=-1))\n",
    "centered_xyz = np.delete(centered_xyz, del_ix, axis=0)\n",
    "m_k = np.delete(m_k, del_ix)"
   ]
  },
  {
   "cell_type": "code",
   "execution_count": null,
   "metadata": {
    "collapsed": true
   },
   "outputs": [],
   "source": [
    "assert len(m_k) == len(centered_xyz)"
   ]
  },
  {
   "cell_type": "code",
   "execution_count": null,
   "metadata": {
    "collapsed": true
   },
   "outputs": [],
   "source": [
    "# maximum particle radius\n",
    "r_max = 200.\n",
    "r = np.sqrt(np.sum(centered_xyz**2, axis=-1))"
   ]
  },
  {
   "cell_type": "code",
   "execution_count": null,
   "metadata": {
    "collapsed": false
   },
   "outputs": [],
   "source": [
    "fig,axes = pl.subplots(1,3,figsize=(15,5),sharex=True,sharey=True)\n",
    "\n",
    "style = dict(linestyle='none', marker=',', alpha=0.25)\n",
    "\n",
    "axes[0].plot(centered_xyz[r<r_max,0], centered_xyz[r<r_max,1], **style)\n",
    "axes[1].plot(centered_xyz[r<r_max,0], centered_xyz[r<r_max,2], **style)\n",
    "axes[2].plot(centered_xyz[r<r_max,1], centered_xyz[r<r_max,2], **style)\n",
    "\n",
    "fig.tight_layout()\n",
    "\n",
    "axes[0].set_xlim(-r_max,r_max)\n",
    "axes[0].set_ylim(-r_max,r_max)"
   ]
  },
  {
   "cell_type": "code",
   "execution_count": null,
   "metadata": {
    "collapsed": false
   },
   "outputs": [],
   "source": [
    "x_xT = np.einsum(\"ni,nj->nij\", centered_xyz[r<r_max], centered_xyz[r<r_max])\n",
    "I = (m_k[r<r_max,None,None] * x_xT).sum(axis=0)\n",
    "I"
   ]
  },
  {
   "cell_type": "code",
   "execution_count": null,
   "metadata": {
    "collapsed": false
   },
   "outputs": [],
   "source": [
    "eigval,eigvec = np.linalg.eig(I)\n",
    "print(\"axis ratios:\", np.sqrt(eigval[:2]/eigval[2]))"
   ]
  },
  {
   "cell_type": "markdown",
   "metadata": {},
   "source": [
    "## Rotate halo so coordinates aligned with eigenvectors of inertia tensor"
   ]
  },
  {
   "cell_type": "code",
   "execution_count": null,
   "metadata": {
    "collapsed": false
   },
   "outputs": [],
   "source": [
    "rot_xyz = np.einsum('ij,ni->nj', eigvec, centered_xyz)"
   ]
  },
  {
   "cell_type": "code",
   "execution_count": null,
   "metadata": {
    "collapsed": false
   },
   "outputs": [],
   "source": [
    "fig,axes = pl.subplots(1,3,figsize=(15,5),sharex=True,sharey=True)\n",
    "\n",
    "style = dict(linestyle='none', marker=',', alpha=0.25)\n",
    "\n",
    "axes[0].plot(rot_xyz[r<r_max,0], rot_xyz[r<r_max,1], **style)\n",
    "axes[1].plot(rot_xyz[r<r_max,0], rot_xyz[r<r_max,2], **style)\n",
    "axes[2].plot(rot_xyz[r<r_max,1], rot_xyz[r<r_max,2], **style)\n",
    "\n",
    "fig.tight_layout()\n",
    "\n",
    "axes[0].set_xlim(-250,250)\n",
    "axes[0].set_ylim(-250,250)"
   ]
  },
  {
   "cell_type": "markdown",
   "metadata": {},
   "source": [
    "## Compute BFE coefficients for the halo"
   ]
  },
  {
   "cell_type": "code",
   "execution_count": null,
   "metadata": {
    "collapsed": false
   },
   "outputs": [],
   "source": [
    "r_s = 30\n",
    "S,T = biff.compute_coeffs_discrete(rot_xyz[r<r_max].astype(np.float64), \n",
    "                                   mass=m_k[r<r_max].astype(np.float64), \n",
    "                                   nmax=16, lmax=16, r_s=r_s)"
   ]
  },
  {
   "cell_type": "code",
   "execution_count": null,
   "metadata": {
    "collapsed": true
   },
   "outputs": [],
   "source": [
    "from scipy.stats import scoreatpercentile"
   ]
  },
  {
   "cell_type": "code",
   "execution_count": null,
   "metadata": {
    "collapsed": false
   },
   "outputs": [],
   "source": [
    "n_grid = 64\n",
    "grid_max = 250.\n",
    "_grid = np.zeros((3,n_grid*n_grid))\n",
    "_grid[[0,1]] = np.vstack(map(np.ravel, np.meshgrid(np.linspace(-grid_max,grid_max,n_grid),\n",
    "                                                   np.linspace(-grid_max,grid_max,n_grid))))\n",
    "\n",
    "dens = biff.density(np.ascontiguousarray(_grid.T), S, T, M=m_k.sum(), r_s=r_s)"
   ]
  },
  {
   "cell_type": "code",
   "execution_count": null,
   "metadata": {
    "collapsed": false
   },
   "outputs": [],
   "source": [
    "(dens < 0).sum(), (dens > 0).sum()"
   ]
  },
  {
   "cell_type": "code",
   "execution_count": null,
   "metadata": {
    "collapsed": false
   },
   "outputs": [],
   "source": [
    "np.log10(dens[dens > 0.])"
   ]
  },
  {
   "cell_type": "code",
   "execution_count": null,
   "metadata": {
    "collapsed": false
   },
   "outputs": [],
   "source": [
    "scoreatpercentile(np.log10(dens[dens > 0]), [1,99])"
   ]
  },
  {
   "cell_type": "code",
   "execution_count": null,
   "metadata": {
    "collapsed": false
   },
   "outputs": [],
   "source": [
    "pl.hist(np.log10(dens[dens > 0.]))"
   ]
  },
  {
   "cell_type": "code",
   "execution_count": null,
   "metadata": {
    "collapsed": false
   },
   "outputs": [],
   "source": [
    "def plot_density_contours(idx, S, T, grid_max=250., n_grid=64):\n",
    "    _grid = np.zeros((3,n_grid*n_grid))\n",
    "    _grid[idx] = np.vstack(map(np.ravel, np.meshgrid(np.linspace(-grid_max,grid_max,n_grid),\n",
    "                                                     np.linspace(-grid_max,grid_max,n_grid))))\n",
    "\n",
    "    dens = biff.density(np.ascontiguousarray(_grid.T), S, T, M=m_k.sum(), r_s=r_s)\n",
    "    dens[dens < 0] = np.nan\n",
    "    \n",
    "    percs = np.log10([dens[dens > 0].min(), dens[dens > 0].max()])\n",
    "    levels = np.logspace(percs[0], percs[1], 16)\n",
    "    \n",
    "    shp = (n_grid, n_grid)\n",
    "\n",
    "    fig,ax = pl.subplots(1,1,figsize=(6,6))\n",
    "\n",
    "#     ax.contour(_grid[idx[0]].reshape(shp), _grid[idx[1]].reshape(shp),\n",
    "#                dens.reshape(shp), levels=levels,\n",
    "#                colors='k', linewidths=1)\n",
    "    ax.contourf(_grid[idx[0]].reshape(shp), _grid[idx[1]].reshape(shp),\n",
    "                dens.reshape(shp), cmap='Blues', levels=levels,\n",
    "                locator=ticker.LogLocator())\n",
    "\n",
    "    ax.set_xlim(-grid_max, grid_max)\n",
    "    ax.set_ylim(-grid_max, grid_max)\n",
    "    \n",
    "    ax.set_xlabel(\"${}$\".format('xyz'[idx[0]]))\n",
    "    ax.set_ylabel(\"${}$\".format('xyz'[idx[1]]))\n",
    "    \n",
    "    tmp = np.array([0,1,2])\n",
    "    tmp = np.delete(tmp, np.where((tmp==idx[0]) | (tmp == idx[1]))[0])\n",
    "    ax.set_title(\"Isodensity contours at ${}=0$\".format('xyz'[tmp[0]]))\n",
    "\n",
    "    fig.tight_layout()\n",
    "    \n",
    "    return fig,ax"
   ]
  },
  {
   "cell_type": "code",
   "execution_count": null,
   "metadata": {
    "collapsed": false
   },
   "outputs": [],
   "source": [
    "fig,ax = plot_density_contours([0,1], S, T, grid_max=r_max)\n",
    "ax.plot(rot_xyz[r<r_max,0], rot_xyz[r<r_max,1], marker=',', linestyle='none')"
   ]
  },
  {
   "cell_type": "code",
   "execution_count": null,
   "metadata": {
    "collapsed": false
   },
   "outputs": [],
   "source": [
    "fig,ax = plot_density_contours([0,2], S, T, grid_max=r_max)\n",
    "ax.plot(rot_xyz[r<r_max,0], rot_xyz[r<r_max,2], marker=',', linestyle='none')"
   ]
  },
  {
   "cell_type": "code",
   "execution_count": null,
   "metadata": {
    "collapsed": false
   },
   "outputs": [],
   "source": [
    "fig,ax = plot_density_contours([1,2], S, T, grid_max=r_max)\n",
    "ax.plot(rot_xyz[r<r_max,1], rot_xyz[r<r_max,2], marker=',', linestyle='none')"
   ]
  },
  {
   "cell_type": "code",
   "execution_count": null,
   "metadata": {
    "collapsed": true
   },
   "outputs": [],
   "source": [
    "pot = biff.SCFPotential(m=m_k.sum(), r_s=r_s, Snlm=S, Tnlm=T)"
   ]
  },
  {
   "cell_type": "code",
   "execution_count": null,
   "metadata": {
    "collapsed": true
   },
   "outputs": [],
   "source": [
    "w0 = gd.CartesianPhaseSpacePosition(pos=[30.,0,0],\n",
    "                                    vel=[0.,17.,0.])"
   ]
  },
  {
   "cell_type": "code",
   "execution_count": null,
   "metadata": {
    "collapsed": false
   },
   "outputs": [],
   "source": [
    "orbit = pot.integrate_orbit(w0, dt=0.1, n_steps=1000) #, Integrator=gi.DOPRI853Integrator)"
   ]
  },
  {
   "cell_type": "code",
   "execution_count": null,
   "metadata": {
    "collapsed": false
   },
   "outputs": [],
   "source": [
    "_ = orbit.plot(marker='.')"
   ]
  },
  {
   "cell_type": "code",
   "execution_count": null,
   "metadata": {
    "collapsed": true
   },
   "outputs": [],
   "source": []
  }
 ],
 "metadata": {
  "kernelspec": {
   "display_name": "Environment (biff)",
   "language": "",
   "name": "biff"
  },
  "language_info": {
   "codemirror_mode": {
    "name": "ipython",
    "version": 3
   },
   "file_extension": ".py",
   "mimetype": "text/x-python",
   "name": "python",
   "nbconvert_exporter": "python",
   "pygments_lexer": "ipython3",
   "version": "3.5.2"
  }
 },
 "nbformat": 4,
 "nbformat_minor": 0
}